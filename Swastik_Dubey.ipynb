{
 "cells": [
  {
   "cell_type": "code",
   "execution_count": 1,
   "id": "fa964d62",
   "metadata": {},
   "outputs": [],
   "source": [
    "from datetime import datetime\n",
    "\n",
    "def consolidate_and_sort_logs(log_batches):\n",
    "    consolidated_logs = []\n",
    "\n",
    "    for log_batch in log_batches:\n",
    "        for service_name, log_details in log_batch.items():\n",
    "            log_type = log_details['log_type']\n",
    "            date_time_str = f\"{log_details['date']} {log_details['time']}\"\n",
    "            date_time = datetime.strptime(date_time_str, '%a %B %d %Y %H:%M:%S %Z%z')\n",
    "\n",
    "            # Check if the service already exists in consolidated_logs\n",
    "            service_exists = False\n",
    "            for log_entry in consolidated_logs:\n",
    "                if log_entry['service_name'] == service_name:\n",
    "                    service_exists = True\n",
    "                    # Update if the new log entry is more recent\n",
    "                    if date_time > log_entry['date_time']:\n",
    "                        log_entry['log_type'] = log_type\n",
    "                        log_entry['date_time'] = date_time\n",
    "                    break\n",
    "\n",
    "            # If the service doesn't exist in consolidated_logs, add it\n",
    "            if not service_exists:\n",
    "                consolidated_logs.append({\n",
    "                    'date_time': date_time,\n",
    "                    'service_name': service_name,\n",
    "                    'log_type': log_type\n",
    "                })\n",
    "\n",
    "    # Sort the consolidated_logs by date and time\n",
    "    consolidated_logs.sort(key=lambda x: x['date_time'], reverse=True)\n",
    "\n",
    "    # Convert date_time to the desired format\n",
    "    for log_entry in consolidated_logs:\n",
    "        log_entry['date'] = log_entry['date_time'].strftime('%Y-%m-%d')\n",
    "        log_entry['time'] = log_entry['date_time'].strftime('%H:%M:%S')\n",
    "\n",
    "    # Remove the date_time key as it's no longer needed\n",
    "    for log_entry in consolidated_logs:\n",
    "        del log_entry['date_time']\n",
    "\n",
    "    return consolidated_logs"
   ]
  },
  {
   "cell_type": "code",
   "execution_count": 2,
   "id": "2f80590e",
   "metadata": {},
   "outputs": [
    {
     "ename": "ValueError",
     "evalue": "time data 'Wed July 25 2023 09:00:00' does not match format '%a %B %d %Y %H:%M:%S %Z%z'",
     "output_type": "error",
     "traceback": [
      "\u001b[1;31m---------------------------------------------------------------------------\u001b[0m",
      "\u001b[1;31mValueError\u001b[0m                                Traceback (most recent call last)",
      "Cell \u001b[1;32mIn[2], line 19\u001b[0m\n\u001b[0;32m      1\u001b[0m input1\u001b[38;5;241m=\u001b[39m[ \n\u001b[0;32m      2\u001b[0m { \n\u001b[0;32m      3\u001b[0m \u001b[38;5;124m\"\u001b[39m\u001b[38;5;124mmicro-service-q1\u001b[39m\u001b[38;5;124m\"\u001b[39m: {\u001b[38;5;124m\"\u001b[39m\u001b[38;5;124mlog_type\u001b[39m\u001b[38;5;124m\"\u001b[39m: \u001b[38;5;124m\"\u001b[39m\u001b[38;5;124mINFO\u001b[39m\u001b[38;5;124m\"\u001b[39m, \u001b[38;5;124m\"\u001b[39m\u001b[38;5;124mdate\u001b[39m\u001b[38;5;124m\"\u001b[39m: \u001b[38;5;124m\"\u001b[39m\u001b[38;5;124mWed July 25 2023\u001b[39m\u001b[38;5;124m\"\u001b[39m, \u001b[38;5;124m\"\u001b[39m\u001b[38;5;124mtime\u001b[39m\u001b[38;5;124m\"\u001b[39m: \u001b[38;5;124m\"\u001b[39m\u001b[38;5;124m09:00:00\u001b[39m\u001b[38;5;124m\"\u001b[39m}, \u001b[38;5;124m\"\u001b[39m\u001b[38;5;124mmicro-service-r1\u001b[39m\u001b[38;5;124m\"\u001b[39m: {\u001b[38;5;124m\"\u001b[39m\u001b[38;5;124mlog_type\u001b[39m\u001b[38;5;124m\"\u001b[39m: \u001b[38;5;124m\"\u001b[39m\u001b[38;5;124mERROR\u001b[39m\u001b[38;5;124m\"\u001b[39m, \u001b[38;5;124m\"\u001b[39m\u001b[38;5;124mdate\u001b[39m\u001b[38;5;124m\"\u001b[39m: \u001b[38;5;124m\"\u001b[39m\u001b[38;5;124mWed July 25 2023\u001b[39m\u001b[38;5;124m\"\u001b[39m, \u001b[38;5;124m\"\u001b[39m\u001b[38;5;124mtime\u001b[39m\u001b[38;5;124m\"\u001b[39m: \n\u001b[1;32m   (...)\u001b[0m\n\u001b[0;32m     17\u001b[0m \u001b[38;5;124m\"\u001b[39m\u001b[38;5;124mmicro-service-t1\u001b[39m\u001b[38;5;124m\"\u001b[39m: {\u001b[38;5;124m\"\u001b[39m\u001b[38;5;124mlog_type\u001b[39m\u001b[38;5;124m\"\u001b[39m: \u001b[38;5;124m\"\u001b[39m\u001b[38;5;124mINFO\u001b[39m\u001b[38;5;124m\"\u001b[39m, \u001b[38;5;124m\"\u001b[39m\u001b[38;5;124mdate\u001b[39m\u001b[38;5;124m\"\u001b[39m: \u001b[38;5;124m\"\u001b[39m\u001b[38;5;124mWed July 25 2023\u001b[39m\u001b[38;5;124m\"\u001b[39m, \u001b[38;5;124m\"\u001b[39m\u001b[38;5;124mtime\u001b[39m\u001b[38;5;124m\"\u001b[39m: \u001b[38;5;124m\"\u001b[39m\u001b[38;5;124m10:15:00\u001b[39m\u001b[38;5;124m\"\u001b[39m}, \u001b[38;5;124m\"\u001b[39m\u001b[38;5;124mmicro-service-s1\u001b[39m\u001b[38;5;124m\"\u001b[39m: {\u001b[38;5;124m\"\u001b[39m\u001b[38;5;124mlog_type\u001b[39m\u001b[38;5;124m\"\u001b[39m: \u001b[38;5;124m\"\u001b[39m\u001b[38;5;124mWARN\u001b[39m\u001b[38;5;124m\"\u001b[39m, \u001b[38;5;124m\"\u001b[39m\u001b[38;5;124mdate\u001b[39m\u001b[38;5;124m\"\u001b[39m: \u001b[38;5;124m\"\u001b[39m\u001b[38;5;124mWed July 25 2023\u001b[39m\u001b[38;5;124m\"\u001b[39m, \u001b[38;5;124m\"\u001b[39m\u001b[38;5;124mtime\u001b[39m\u001b[38;5;124m\"\u001b[39m: \u001b[38;5;124m\"\u001b[39m\u001b[38;5;124m10:00:00\u001b[39m\u001b[38;5;124m\"\u001b[39m} } \n\u001b[0;32m     18\u001b[0m ] \n\u001b[1;32m---> 19\u001b[0m output1 \u001b[38;5;241m=\u001b[39m consolidate_and_sort_logs(input1)\n\u001b[0;32m     20\u001b[0m \u001b[38;5;28mprint\u001b[39m(output1)\n",
      "Cell \u001b[1;32mIn[1], line 10\u001b[0m, in \u001b[0;36mconsolidate_and_sort_logs\u001b[1;34m(log_batches)\u001b[0m\n\u001b[0;32m      8\u001b[0m log_type \u001b[38;5;241m=\u001b[39m log_details[\u001b[38;5;124m'\u001b[39m\u001b[38;5;124mlog_type\u001b[39m\u001b[38;5;124m'\u001b[39m]\n\u001b[0;32m      9\u001b[0m date_time_str \u001b[38;5;241m=\u001b[39m \u001b[38;5;124mf\u001b[39m\u001b[38;5;124m\"\u001b[39m\u001b[38;5;132;01m{\u001b[39;00mlog_details[\u001b[38;5;124m'\u001b[39m\u001b[38;5;124mdate\u001b[39m\u001b[38;5;124m'\u001b[39m]\u001b[38;5;132;01m}\u001b[39;00m\u001b[38;5;124m \u001b[39m\u001b[38;5;132;01m{\u001b[39;00mlog_details[\u001b[38;5;124m'\u001b[39m\u001b[38;5;124mtime\u001b[39m\u001b[38;5;124m'\u001b[39m]\u001b[38;5;132;01m}\u001b[39;00m\u001b[38;5;124m\"\u001b[39m\n\u001b[1;32m---> 10\u001b[0m date_time \u001b[38;5;241m=\u001b[39m datetime\u001b[38;5;241m.\u001b[39mstrptime(date_time_str, \u001b[38;5;124m'\u001b[39m\u001b[38;5;132;01m%a\u001b[39;00m\u001b[38;5;124m \u001b[39m\u001b[38;5;124m%\u001b[39m\u001b[38;5;124mB \u001b[39m\u001b[38;5;132;01m%d\u001b[39;00m\u001b[38;5;124m \u001b[39m\u001b[38;5;124m%\u001b[39m\u001b[38;5;124mY \u001b[39m\u001b[38;5;124m%\u001b[39m\u001b[38;5;124mH:\u001b[39m\u001b[38;5;124m%\u001b[39m\u001b[38;5;124mM:\u001b[39m\u001b[38;5;124m%\u001b[39m\u001b[38;5;124mS \u001b[39m\u001b[38;5;124m%\u001b[39m\u001b[38;5;124mZ\u001b[39m\u001b[38;5;124m%\u001b[39m\u001b[38;5;124mz\u001b[39m\u001b[38;5;124m'\u001b[39m)\n\u001b[0;32m     12\u001b[0m \u001b[38;5;66;03m# Check if the service already exists in consolidated_logs\u001b[39;00m\n\u001b[0;32m     13\u001b[0m service_exists \u001b[38;5;241m=\u001b[39m \u001b[38;5;28;01mFalse\u001b[39;00m\n",
      "File \u001b[1;32m~\\anaconda3\\Lib\\_strptime.py:568\u001b[0m, in \u001b[0;36m_strptime_datetime\u001b[1;34m(cls, data_string, format)\u001b[0m\n\u001b[0;32m    565\u001b[0m \u001b[38;5;28;01mdef\u001b[39;00m \u001b[38;5;21m_strptime_datetime\u001b[39m(\u001b[38;5;28mcls\u001b[39m, data_string, \u001b[38;5;28mformat\u001b[39m\u001b[38;5;241m=\u001b[39m\u001b[38;5;124m\"\u001b[39m\u001b[38;5;132;01m%a\u001b[39;00m\u001b[38;5;124m \u001b[39m\u001b[38;5;124m%\u001b[39m\u001b[38;5;124mb \u001b[39m\u001b[38;5;132;01m%d\u001b[39;00m\u001b[38;5;124m \u001b[39m\u001b[38;5;124m%\u001b[39m\u001b[38;5;124mH:\u001b[39m\u001b[38;5;124m%\u001b[39m\u001b[38;5;124mM:\u001b[39m\u001b[38;5;124m%\u001b[39m\u001b[38;5;124mS \u001b[39m\u001b[38;5;124m%\u001b[39m\u001b[38;5;124mY\u001b[39m\u001b[38;5;124m\"\u001b[39m):\n\u001b[0;32m    566\u001b[0m \u001b[38;5;250m    \u001b[39m\u001b[38;5;124;03m\"\"\"Return a class cls instance based on the input string and the\u001b[39;00m\n\u001b[0;32m    567\u001b[0m \u001b[38;5;124;03m    format string.\"\"\"\u001b[39;00m\n\u001b[1;32m--> 568\u001b[0m     tt, fraction, gmtoff_fraction \u001b[38;5;241m=\u001b[39m _strptime(data_string, \u001b[38;5;28mformat\u001b[39m)\n\u001b[0;32m    569\u001b[0m     tzname, gmtoff \u001b[38;5;241m=\u001b[39m tt[\u001b[38;5;241m-\u001b[39m\u001b[38;5;241m2\u001b[39m:]\n\u001b[0;32m    570\u001b[0m     args \u001b[38;5;241m=\u001b[39m tt[:\u001b[38;5;241m6\u001b[39m] \u001b[38;5;241m+\u001b[39m (fraction,)\n",
      "File \u001b[1;32m~\\anaconda3\\Lib\\_strptime.py:349\u001b[0m, in \u001b[0;36m_strptime\u001b[1;34m(data_string, format)\u001b[0m\n\u001b[0;32m    347\u001b[0m found \u001b[38;5;241m=\u001b[39m format_regex\u001b[38;5;241m.\u001b[39mmatch(data_string)\n\u001b[0;32m    348\u001b[0m \u001b[38;5;28;01mif\u001b[39;00m \u001b[38;5;129;01mnot\u001b[39;00m found:\n\u001b[1;32m--> 349\u001b[0m     \u001b[38;5;28;01mraise\u001b[39;00m \u001b[38;5;167;01mValueError\u001b[39;00m(\u001b[38;5;124m\"\u001b[39m\u001b[38;5;124mtime data \u001b[39m\u001b[38;5;132;01m%r\u001b[39;00m\u001b[38;5;124m does not match format \u001b[39m\u001b[38;5;132;01m%r\u001b[39;00m\u001b[38;5;124m\"\u001b[39m \u001b[38;5;241m%\u001b[39m\n\u001b[0;32m    350\u001b[0m                      (data_string, \u001b[38;5;28mformat\u001b[39m))\n\u001b[0;32m    351\u001b[0m \u001b[38;5;28;01mif\u001b[39;00m \u001b[38;5;28mlen\u001b[39m(data_string) \u001b[38;5;241m!=\u001b[39m found\u001b[38;5;241m.\u001b[39mend():\n\u001b[0;32m    352\u001b[0m     \u001b[38;5;28;01mraise\u001b[39;00m \u001b[38;5;167;01mValueError\u001b[39;00m(\u001b[38;5;124m\"\u001b[39m\u001b[38;5;124munconverted data remains: \u001b[39m\u001b[38;5;132;01m%s\u001b[39;00m\u001b[38;5;124m\"\u001b[39m \u001b[38;5;241m%\u001b[39m\n\u001b[0;32m    353\u001b[0m                       data_string[found\u001b[38;5;241m.\u001b[39mend():])\n",
      "\u001b[1;31mValueError\u001b[0m: time data 'Wed July 25 2023 09:00:00' does not match format '%a %B %d %Y %H:%M:%S %Z%z'"
     ]
    }
   ],
   "source": [
    "input1=[ \n",
    "{ \n",
    "\"micro-service-q1\": {\"log_type\": \"INFO\", \"date\": \"Wed July 25 2023\", \"time\": \"09:00:00\"}, \"micro-service-r1\": {\"log_type\": \"ERROR\", \"date\": \"Wed July 25 2023\", \"time\": \n",
    "\"09:15:00\"},\n",
    "\"micro-service-s1\": {\"log_type\": \"DEBUG\", \"date\": \"Wed July 25 2023\", \"time\": \n",
    "\"09:30:00\"} \n",
    "}, \n",
    "{ \n",
    "\"micro-service-r1\": {\"log_type\": \"ERROR\", \"date\": \"Wed July 25 2023\", \"time\": \n",
    "\"09:45:00\"}, \n",
    "\"micro-service-s1\": {\"log_type\": \"INFO\", \"date\": \"Wed July 25 2023\", \"time\": \"10:00:00\"}, \"micro-service-t1\": {\"log_type\": \"DEBUG\", \"date\": \"Wed July 25 2023\", \"time\": \n",
    "\"10:45:00\"}, \n",
    "\"micro-service-r1\": {\"log_type\": \"WARN\", \"date\": \"Wed July 25 2023\", \"time\": \"09:35:00\"} }, \n",
    "{ \n",
    "\"micro-service-s1\": {\"log_type\": \"ERROR\", \"date\": \"Wed July 25 2023\", \"time\": \n",
    "\"10:30:00\"}, \n",
    "\"micro-service-t1\": {\"log_type\": \"INFO\", \"date\": \"Wed July 25 2023\", \"time\": \"10:15:00\"}, \"micro-service-s1\": {\"log_type\": \"WARN\", \"date\": \"Wed July 25 2023\", \"time\": \"10:00:00\"} } \n",
    "] \n",
    "output1 = consolidate_and_sort_logs(input1)\n",
    "print(output1)"
   ]
  },
  {
   "cell_type": "code",
   "execution_count": null,
   "id": "8ff50af1",
   "metadata": {},
   "outputs": [],
   "source": []
  },
  {
   "cell_type": "code",
   "execution_count": null,
   "id": "ac839b14",
   "metadata": {},
   "outputs": [],
   "source": []
  },
  {
   "cell_type": "code",
   "execution_count": null,
   "id": "90a0b34e",
   "metadata": {},
   "outputs": [],
   "source": []
  }
 ],
 "metadata": {
  "kernelspec": {
   "display_name": "Python 3 (ipykernel)",
   "language": "python",
   "name": "python3"
  },
  "language_info": {
   "codemirror_mode": {
    "name": "ipython",
    "version": 3
   },
   "file_extension": ".py",
   "mimetype": "text/x-python",
   "name": "python",
   "nbconvert_exporter": "python",
   "pygments_lexer": "ipython3",
   "version": "3.11.4"
  }
 },
 "nbformat": 4,
 "nbformat_minor": 5
}
